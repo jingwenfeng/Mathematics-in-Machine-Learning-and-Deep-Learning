{
  "cells": [
    {
      "cell_type": "markdown",
      "metadata": {},
      "source": [
        "# SGD Four-Point Example (Reproducing the Handwritten Notes)\n",
        "\n",
        "This notebook imports a small module `sgd_algorithms.py` and reproduces the exact four-step SGD example with full per-sample arithmetic, matching the notes."
      ]
    },
    {
      "cell_type": "code",
      "metadata": {},
      "execution_count": null,
      "outputs": [],
      "source": [
        "import sys, json\n",
        "from pathlib import Path\n",
        "\n",
        "# If running locally, ensure the module is discoverable\n",
        "module_path = Path.cwd()\n",
        "if str(module_path) not in sys.path:\n",
        "    sys.path.insert(0, str(module_path))\n",
        "\n",
        "from sgd_algorithms import four_point_example_trace\n"
      ]
    },
    {
      "cell_type": "code",
      "metadata": {},
      "execution_count": null,
      "outputs": [],
      "source": [
        "result = four_point_example_trace(eta=0.1)\n",
        "traces = result['traces']\n",
        "avg = result['averaged_params']\n",
        "print('Averaged parameters over 4 updates: w\u0304 = {:.3f}, b\u0304 = {:.4f}'.format(avg['w'], avg['b']))"
      ]
    },
    {
      "cell_type": "code",
      "metadata": {},
      "execution_count": null,
      "outputs": [],
      "source": [
        "from pprint import pprint\n",
        "\n",
        "for t in traces:\n",
        "    w0, b0 = t['eval_at']\n",
        "    Dw, Db = t['batch_avg_grad']\n",
        "    w1, b1 = t['updated_params']\n",
        "    print(f\"\\nStep {t['step']}  batch = {t['batch']}  eval_at = (w,b)=({w0:.3f},{b0:.3f})\")\n",
        "    for sg in t['sample_grads']:\n",
        "        print(\"  sample (x,y)=(%.1f,%.1f): y_hat=%.3f  r=%.3f  grad_w=%.3f  grad_b=%.3f\" % (\n",
        "            sg['x'], sg['y'], sg['y_hat'], sg['residual'], sg['grad_w'], sg['grad_b']))\n",
        "    print(\"  batch average: Dw=%.3f  Db=%.3f\" % (Dw, Db))\n",
        "    print(\"  update: (w,b) -> (%.3f, %.3f)\" % (w1, b1))\n"
      ]
    },
    {
      "cell_type": "markdown",
      "metadata": {},
      "source": [
        "### Expected values from the notes (for quick visual check)\n",
        "- After step 1: $(w,b)=(2.4, 1.0)$\n",
        "- After step 2: $(w,b)=(1.6, 0.76)$\n",
        "- After step 3: $(w,b)=(2.4, 1.008)$\n",
        "- After step 4: $(w,b)=(1.876, 0.8064)$\n",
        "- Averaged: $\\bar w \\approx 2.069$, $\\bar b \\approx 0.8936$"
      ]
    }
  ],
  "metadata": {
    "kernelspec": {
      "display_name": "Python 3",
      "language": "python",
      "name": "python3"
    },
    "language_info": {
      "name": "python",
      "pygments_lexer": "ipython3"
    }
  },
  "nbformat": 4,
  "nbformat_minor": 5
}