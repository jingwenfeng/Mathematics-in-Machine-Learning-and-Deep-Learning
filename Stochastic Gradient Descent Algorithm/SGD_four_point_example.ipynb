{
 "cells": [
  {
   "cell_type": "markdown",
   "id": "2b688291",
   "metadata": {},
   "source": [
    "# SGD Four-Point Example \n",
    "\n",
    "This notebook imports a small module `sgd_algorithms.py` and reproduces the exact four-step SGD example with full per-sample arithmetic, matching the notes."
   ]
  },
  {
   "cell_type": "code",
   "execution_count": 1,
   "id": "2f2d1fab",
   "metadata": {},
   "outputs": [],
   "source": [
    "import sys, json\n",
    "from pathlib import Path\n",
    "\n",
    "# If running locally, ensure the module is discoverable\n",
    "module_path = Path.cwd()\n",
    "if str(module_path) not in sys.path:\n",
    "    sys.path.insert(0, str(module_path))\n",
    "\n",
    "from sgd_algorithms import four_point_example_trace\n"
   ]
  },
  {
   "cell_type": "code",
   "execution_count": 3,
   "id": "e9baea0b",
   "metadata": {},
   "outputs": [
    {
     "name": "stdout",
     "output_type": "stream",
     "text": [
      "Averaged parameters over 4 updates: w̄ = 2.069, b̄ = 0.8936\n"
     ]
    }
   ],
   "source": [
    "result = four_point_example_trace(eta=0.1)\n",
    "traces = result['traces']\n",
    "avg = result['averaged_params']\n",
    "print('Averaged parameters over 4 updates: w̄ = {:.3f}, b̄ = {:.4f}'.format(avg['w'], avg['b']))"
   ]
  },
  {
   "cell_type": "code",
   "execution_count": 5,
   "id": "5a31f964",
   "metadata": {},
   "outputs": [
    {
     "name": "stdout",
     "output_type": "stream",
     "text": [
      "\n",
      "Step 1  batch = [(1.0, 3.0), (3.0, 7.0)]  eval_at = (w,b)=(0.000,0.000)\n",
      "  sample (x,y)=(1.0,3.0): y_hat=0.000  r=-3.000  grad_w=-6.000  grad_b=-6.000\n",
      "  sample (x,y)=(3.0,7.0): y_hat=0.000  r=-7.000  grad_w=-42.000  grad_b=-14.000\n",
      "  batch average: Dw=-24.000  Db=-10.000\n",
      "  update: (w,b) -> (2.400, 1.000)\n",
      "\n",
      "Step 2  batch = [(2.0, 5.0), (4.0, 9.0)]  eval_at = (w,b)=(2.400,1.000)\n",
      "  sample (x,y)=(2.0,5.0): y_hat=5.800  r=0.800  grad_w=3.200  grad_b=1.600\n",
      "  sample (x,y)=(4.0,9.0): y_hat=10.600  r=1.600  grad_w=12.800  grad_b=3.200\n",
      "  batch average: Dw=8.000  Db=2.400\n",
      "  update: (w,b) -> (1.600, 0.760)\n",
      "\n",
      "Step 3  batch = [(1.0, 3.0), (4.0, 9.0)]  eval_at = (w,b)=(1.600,0.760)\n",
      "  sample (x,y)=(1.0,3.0): y_hat=2.360  r=-0.640  grad_w=-1.280  grad_b=-1.280\n",
      "  sample (x,y)=(4.0,9.0): y_hat=7.160  r=-1.840  grad_w=-14.720  grad_b=-3.680\n",
      "  batch average: Dw=-8.000  Db=-2.480\n",
      "  update: (w,b) -> (2.400, 1.008)\n",
      "\n",
      "Step 4  batch = [(2.0, 5.0), (3.0, 7.0)]  eval_at = (w,b)=(2.400,1.008)\n",
      "  sample (x,y)=(2.0,5.0): y_hat=5.808  r=0.808  grad_w=3.232  grad_b=1.616\n",
      "  sample (x,y)=(3.0,7.0): y_hat=8.208  r=1.208  grad_w=7.248  grad_b=2.416\n",
      "  batch average: Dw=5.240  Db=2.016\n",
      "  update: (w,b) -> (1.876, 0.806)\n"
     ]
    }
   ],
   "source": [
    "from pprint import pprint\n",
    "\n",
    "for t in traces:\n",
    "    w0, b0 = t['eval_at']\n",
    "    Dw, Db = t['batch_avg_grad']\n",
    "    w1, b1 = t['updated_params']\n",
    "    print(f\"\\nStep {t['step']}  batch = {t['batch']}  eval_at = (w,b)=({w0:.3f},{b0:.3f})\")\n",
    "    for sg in t['sample_grads']:\n",
    "        print(\"  sample (x,y)=(%.1f,%.1f): y_hat=%.3f  r=%.3f  grad_w=%.3f  grad_b=%.3f\" % (\n",
    "            sg['x'], sg['y'], sg['y_hat'], sg['residual'], sg['grad_w'], sg['grad_b']))\n",
    "    print(\"  batch average: Dw=%.3f  Db=%.3f\" % (Dw, Db))\n",
    "    print(\"  update: (w,b) -> (%.3f, %.3f)\" % (w1, b1))\n"
   ]
  }
 ],
 "metadata": {
  "kernelspec": {
   "display_name": "base",
   "language": "python",
   "name": "base"
  },
  "language_info": {
   "codemirror_mode": {
    "name": "ipython",
    "version": 3
   },
   "file_extension": ".py",
   "mimetype": "text/x-python",
   "name": "python",
   "nbconvert_exporter": "python",
   "pygments_lexer": "ipython3",
   "version": "3.12.7"
  }
 },
 "nbformat": 4,
 "nbformat_minor": 5
}
